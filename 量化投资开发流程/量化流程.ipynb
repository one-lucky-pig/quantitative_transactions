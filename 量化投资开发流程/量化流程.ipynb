{
 "cells": [
  {
   "cell_type": "code",
   "execution_count": 45,
   "metadata": {
    "collapsed": true
   },
   "outputs": [],
   "source": [
    "import akshare as ak\n",
    "import pandas as pd\n",
    "import numpy as np\n",
    "import matplotlib.pyplot as plt\n",
    "import tushare as ts\n",
    "import warnings\n",
    "import time\n",
    "warnings.filterwarnings('ignore')\n",
    "plt.rcParams['font.family'] = 'Arial'  # 设置主要字体（可以根据实际字体名称进行修改）\n",
    "plt.rcParams['font.sans-serif'] = ['Helvetica', 'SimHei']\n",
    "plt.rcParams['axes.unicode_minus'] = False\n",
    "#设置全局字体"
   ]
  },
  {
   "cell_type": "code",
   "execution_count": 38,
   "outputs": [
    {
     "name": "stdout",
     "output_type": "stream",
     "text": [
      "              日期       开盘       收盘       最高       最低    成交量           成交额  \\\n",
      "0     2016-01-04  1204.89  1164.79  1204.89  1164.64  17350  3.719098e+08   \n",
      "1     2016-01-05  1164.69  1178.86  1184.64  1152.18  31909  6.725963e+08   \n",
      "2     2016-01-06  1178.66  1175.65  1183.08  1161.17  23761  5.024836e+08   \n",
      "3     2016-01-07  1159.62  1125.65  1159.62  1114.59   8149  1.678299e+08   \n",
      "4     2016-01-08  1135.40  1137.71  1154.64  1114.44  44510  9.118128e+08   \n",
      "...          ...      ...      ...      ...      ...    ...           ...   \n",
      "1816  2023-06-26  9347.61  9291.78  9397.31  9221.44  23993  4.098620e+09   \n",
      "1817  2023-06-27  9296.76  9302.09  9345.55  9247.01  15174  2.598139e+09   \n",
      "1818  2023-06-28  9312.79  9389.17  9417.40  9301.83  18574  3.199294e+09   \n",
      "1819  2023-06-29  9402.33  9315.45  9422.38  9311.93  14231  2.446524e+09   \n",
      "1820  2023-06-30  9376.76  9331.54  9421.93  9308.82  20459  3.472587e+09   \n",
      "\n",
      "        振幅   涨跌幅     涨跌额   换手率  \n",
      "0     3.34 -3.40  -41.05  0.14  \n",
      "1     2.79  1.21   14.07  0.25  \n",
      "2     1.86 -0.27   -3.21  0.19  \n",
      "3     3.83 -4.25  -50.00  0.06  \n",
      "4     3.57  1.07   12.06  0.35  \n",
      "...    ...   ...     ...   ...  \n",
      "1816  1.87 -1.43 -134.82  0.19  \n",
      "1817  1.06  0.11   10.31  0.12  \n",
      "1818  1.24  0.94   87.08  0.15  \n",
      "1819  1.18 -0.79  -73.72  0.11  \n",
      "1820  1.21  0.17   16.09  0.16  \n",
      "\n",
      "[1821 rows x 11 columns]\n"
     ]
    }
   ],
   "source": [
    "#数据获取\n",
    "#获取贵州茅台股票数据\n",
    "stock_600519 = ak.stock_zh_a_hist(\n",
    "    symbol=\"600519\",\n",
    "    period=\"daily\",\n",
    "    start_date=\"20160101\",\n",
    "    end_date=\"20230701\",\n",
    "    adjust=\"hfq\"\n",
    ")\n",
    "print(stock_600519)"
   ],
   "metadata": {
    "collapsed": false,
    "pycharm": {
     "name": "#%%\n"
    }
   }
  },
  {
   "cell_type": "code",
   "execution_count": 39,
   "outputs": [
    {
     "name": "stdout",
     "output_type": "stream",
     "text": [
      "<class 'pandas.core.frame.DataFrame'>\n",
      "RangeIndex: 1821 entries, 0 to 1820\n",
      "Data columns (total 11 columns):\n",
      " #   Column  Non-Null Count  Dtype  \n",
      "---  ------  --------------  -----  \n",
      " 0   日期      1821 non-null   object \n",
      " 1   开盘      1821 non-null   float64\n",
      " 2   收盘      1821 non-null   float64\n",
      " 3   最高      1821 non-null   float64\n",
      " 4   最低      1821 non-null   float64\n",
      " 5   成交量     1821 non-null   int64  \n",
      " 6   成交额     1821 non-null   float64\n",
      " 7   振幅      1821 non-null   float64\n",
      " 8   涨跌幅     1821 non-null   float64\n",
      " 9   涨跌额     1821 non-null   float64\n",
      " 10  换手率     1821 non-null   float64\n",
      "dtypes: float64(9), int64(1), object(1)\n",
      "memory usage: 156.6+ KB\n"
     ]
    }
   ],
   "source": [
    "#检查数据两个纬度\n",
    "#是否有缺失，是否有异常\n",
    "stock_600519.info()"
   ],
   "metadata": {
    "collapsed": false,
    "pycharm": {
     "name": "#%%\n"
    }
   }
  },
  {
   "cell_type": "code",
   "execution_count": 40,
   "outputs": [
    {
     "data": {
      "text/plain": "                    日期       开盘       收盘       最高       最低    成交量  \\\n日期                                                                  \n2016-01-04  2016-01-04  1204.89  1164.79  1204.89  1164.64  17350   \n2016-01-05  2016-01-05  1164.69  1178.86  1184.64  1152.18  31909   \n2016-01-06  2016-01-06  1178.66  1175.65  1183.08  1161.17  23761   \n2016-01-07  2016-01-07  1159.62  1125.65  1159.62  1114.59   8149   \n2016-01-08  2016-01-08  1135.40  1137.71  1154.64  1114.44  44510   \n...                ...      ...      ...      ...      ...    ...   \n2023-06-26  2023-06-26  9347.61  9291.78  9397.31  9221.44  23993   \n2023-06-27  2023-06-27  9296.76  9302.09  9345.55  9247.01  15174   \n2023-06-28  2023-06-28  9312.79  9389.17  9417.40  9301.83  18574   \n2023-06-29  2023-06-29  9402.33  9315.45  9422.38  9311.93  14231   \n2023-06-30  2023-06-30  9376.76  9331.54  9421.93  9308.82  20459   \n\n                     成交额    振幅   涨跌幅     涨跌额   换手率  \n日期                                                  \n2016-01-04  3.719098e+08  3.34 -3.40  -41.05  0.14  \n2016-01-05  6.725963e+08  2.79  1.21   14.07  0.25  \n2016-01-06  5.024836e+08  1.86 -0.27   -3.21  0.19  \n2016-01-07  1.678299e+08  3.83 -4.25  -50.00  0.06  \n2016-01-08  9.118128e+08  3.57  1.07   12.06  0.35  \n...                  ...   ...   ...     ...   ...  \n2023-06-26  4.098620e+09  1.87 -1.43 -134.82  0.19  \n2023-06-27  2.598139e+09  1.06  0.11   10.31  0.12  \n2023-06-28  3.199294e+09  1.24  0.94   87.08  0.15  \n2023-06-29  2.446524e+09  1.18 -0.79  -73.72  0.11  \n2023-06-30  3.472587e+09  1.21  0.17   16.09  0.16  \n\n[1821 rows x 11 columns]",
      "text/html": "<div>\n<style scoped>\n    .dataframe tbody tr th:only-of-type {\n        vertical-align: middle;\n    }\n\n    .dataframe tbody tr th {\n        vertical-align: top;\n    }\n\n    .dataframe thead th {\n        text-align: right;\n    }\n</style>\n<table border=\"1\" class=\"dataframe\">\n  <thead>\n    <tr style=\"text-align: right;\">\n      <th></th>\n      <th>日期</th>\n      <th>开盘</th>\n      <th>收盘</th>\n      <th>最高</th>\n      <th>最低</th>\n      <th>成交量</th>\n      <th>成交额</th>\n      <th>振幅</th>\n      <th>涨跌幅</th>\n      <th>涨跌额</th>\n      <th>换手率</th>\n    </tr>\n    <tr>\n      <th>日期</th>\n      <th></th>\n      <th></th>\n      <th></th>\n      <th></th>\n      <th></th>\n      <th></th>\n      <th></th>\n      <th></th>\n      <th></th>\n      <th></th>\n      <th></th>\n    </tr>\n  </thead>\n  <tbody>\n    <tr>\n      <th>2016-01-04</th>\n      <td>2016-01-04</td>\n      <td>1204.89</td>\n      <td>1164.79</td>\n      <td>1204.89</td>\n      <td>1164.64</td>\n      <td>17350</td>\n      <td>3.719098e+08</td>\n      <td>3.34</td>\n      <td>-3.40</td>\n      <td>-41.05</td>\n      <td>0.14</td>\n    </tr>\n    <tr>\n      <th>2016-01-05</th>\n      <td>2016-01-05</td>\n      <td>1164.69</td>\n      <td>1178.86</td>\n      <td>1184.64</td>\n      <td>1152.18</td>\n      <td>31909</td>\n      <td>6.725963e+08</td>\n      <td>2.79</td>\n      <td>1.21</td>\n      <td>14.07</td>\n      <td>0.25</td>\n    </tr>\n    <tr>\n      <th>2016-01-06</th>\n      <td>2016-01-06</td>\n      <td>1178.66</td>\n      <td>1175.65</td>\n      <td>1183.08</td>\n      <td>1161.17</td>\n      <td>23761</td>\n      <td>5.024836e+08</td>\n      <td>1.86</td>\n      <td>-0.27</td>\n      <td>-3.21</td>\n      <td>0.19</td>\n    </tr>\n    <tr>\n      <th>2016-01-07</th>\n      <td>2016-01-07</td>\n      <td>1159.62</td>\n      <td>1125.65</td>\n      <td>1159.62</td>\n      <td>1114.59</td>\n      <td>8149</td>\n      <td>1.678299e+08</td>\n      <td>3.83</td>\n      <td>-4.25</td>\n      <td>-50.00</td>\n      <td>0.06</td>\n    </tr>\n    <tr>\n      <th>2016-01-08</th>\n      <td>2016-01-08</td>\n      <td>1135.40</td>\n      <td>1137.71</td>\n      <td>1154.64</td>\n      <td>1114.44</td>\n      <td>44510</td>\n      <td>9.118128e+08</td>\n      <td>3.57</td>\n      <td>1.07</td>\n      <td>12.06</td>\n      <td>0.35</td>\n    </tr>\n    <tr>\n      <th>...</th>\n      <td>...</td>\n      <td>...</td>\n      <td>...</td>\n      <td>...</td>\n      <td>...</td>\n      <td>...</td>\n      <td>...</td>\n      <td>...</td>\n      <td>...</td>\n      <td>...</td>\n      <td>...</td>\n    </tr>\n    <tr>\n      <th>2023-06-26</th>\n      <td>2023-06-26</td>\n      <td>9347.61</td>\n      <td>9291.78</td>\n      <td>9397.31</td>\n      <td>9221.44</td>\n      <td>23993</td>\n      <td>4.098620e+09</td>\n      <td>1.87</td>\n      <td>-1.43</td>\n      <td>-134.82</td>\n      <td>0.19</td>\n    </tr>\n    <tr>\n      <th>2023-06-27</th>\n      <td>2023-06-27</td>\n      <td>9296.76</td>\n      <td>9302.09</td>\n      <td>9345.55</td>\n      <td>9247.01</td>\n      <td>15174</td>\n      <td>2.598139e+09</td>\n      <td>1.06</td>\n      <td>0.11</td>\n      <td>10.31</td>\n      <td>0.12</td>\n    </tr>\n    <tr>\n      <th>2023-06-28</th>\n      <td>2023-06-28</td>\n      <td>9312.79</td>\n      <td>9389.17</td>\n      <td>9417.40</td>\n      <td>9301.83</td>\n      <td>18574</td>\n      <td>3.199294e+09</td>\n      <td>1.24</td>\n      <td>0.94</td>\n      <td>87.08</td>\n      <td>0.15</td>\n    </tr>\n    <tr>\n      <th>2023-06-29</th>\n      <td>2023-06-29</td>\n      <td>9402.33</td>\n      <td>9315.45</td>\n      <td>9422.38</td>\n      <td>9311.93</td>\n      <td>14231</td>\n      <td>2.446524e+09</td>\n      <td>1.18</td>\n      <td>-0.79</td>\n      <td>-73.72</td>\n      <td>0.11</td>\n    </tr>\n    <tr>\n      <th>2023-06-30</th>\n      <td>2023-06-30</td>\n      <td>9376.76</td>\n      <td>9331.54</td>\n      <td>9421.93</td>\n      <td>9308.82</td>\n      <td>20459</td>\n      <td>3.472587e+09</td>\n      <td>1.21</td>\n      <td>0.17</td>\n      <td>16.09</td>\n      <td>0.16</td>\n    </tr>\n  </tbody>\n</table>\n<p>1821 rows × 11 columns</p>\n</div>"
     },
     "execution_count": 40,
     "metadata": {},
     "output_type": "execute_result"
    }
   ],
   "source": [
    "#数据整齐，但是需要设置index列，并且设置date格式\n",
    "stock_600519.set_index(pd.to_datetime(stock_600519['日期']),inplace=True)\n",
    "stock_600519"
   ],
   "metadata": {
    "collapsed": false,
    "pycharm": {
     "name": "#%%\n"
    }
   }
  },
  {
   "cell_type": "markdown",
   "source": [
    "问题1：\n",
    "\n",
    "如果开盘、最高、最年、收盘数据出现缺失怎么办？\n",
    "\n",
    "答，升序情况下，df.filna(method='pad/ffill')用前一个非缺失值去城充该缺失值？\n",
    "\n",
    "有同学知道为什么不用后一个值填充吗？\n",
    "\n",
    "用后一个相当于预测了，回测会特别好\n"
   ],
   "metadata": {
    "collapsed": false,
    "pycharm": {
     "name": "#%% md\n"
    }
   }
  },
  {
   "cell_type": "code",
   "execution_count": 46,
   "outputs": [
    {
     "data": {
      "text/plain": "<matplotlib.legend.Legend at 0x1640a11f0>"
     },
     "execution_count": 46,
     "metadata": {},
     "output_type": "execute_result"
    },
    {
     "data": {
      "text/plain": "<Figure size 1000x600 with 1 Axes>",
      "image/png": "[encoded data removed]"
     },
     "metadata": {},
     "output_type": "display_data"
    }
   ],
   "source": [
    "#一般来讲，获取的数起很少会出现超标异常，但不排除特煤情况，所以数据量不大的情况下可以先可视化看看收盘价走势\n",
    "# 可视化看看数据走势\n",
    "plt.figure(figsize= (10, 6))\n",
    "plt.plot(stock_600519.index, stock_600519[\"收盘\"].values, label='服价進势國')\n",
    "plt.legend(loc= \"upper left\")"
   ],
   "metadata": {
    "collapsed": false,
    "pycharm": {
     "name": "#%%\n"
    }
   }
  },
  {
   "cell_type": "markdown",
   "source": [
    "由于段票存在配股、分折、合井和发放股息等事件，会号致股价出现较大的变化。若不注意这一点就处理数据、计算各种指标，將会导致它们失去连续性，计算收益也会出现错误， 所以为了保证数据连费性，常通过前复权或后复权对价格序列进行调整。"
   ],
   "metadata": {
    "collapsed": false,
    "pycharm": {
     "name": "#%% md\n"
    }
   }
  },
  {
   "cell_type": "markdown",
   "source": [
    "## 前复权\n",
    "\n",
    "保持当前价格不变，将历史价路进行增城，从而使股价连续。前复权用来看我非常方便，馆一眼新出股价的历史走势，整加各种技术指标也比较顺新，是各种行情软件默认的复权方式。\n",
    "\n",
    "缺点一：会导致在不同时点看到的历史前复权价可能出现差异。\n",
    "\n",
    "缺点二：对于有持续分红的公司来说，前复权价可能出现货值。"
   ],
   "metadata": {
    "collapsed": false,
    "pycharm": {
     "name": "#%% md\n"
    }
   }
  },
  {
   "cell_type": "markdown",
   "source": [
    "## 后复权\n",
    "\n",
    "后复权：保证历史价格不变，在每次股票权益事件发生后，调整当前的股票价格。\n",
    "\n",
    "后复权价格和真实股票价格可能差别较大，不适合用来看盘。\n",
    "\n",
    "优点在于可以被看作投资者的长期财富增长曲线，反应投资者的真实收益率情况。"
   ],
   "metadata": {
    "collapsed": false,
    "pycharm": {
     "name": "#%% md\n"
    }
   }
  },
  {
   "cell_type": "code",
   "execution_count": 47,
   "outputs": [],
   "source": [
    "def get_stock_data (code: str, start_date: str, end_date:str, period: str, adjust: str):\n",
    "    '''\n",
    "    symbol: str = \"000001\",\n",
    "    period: str = \"daily\",'weekly' 'monthly'\n",
    "    start_date: str = \"19700101\",\n",
    "    end_date: str = \"20500101\",\n",
    "    adjust: str = [qfq','hfq'],\n",
    "    '''\n",
    "    #获取数据\n",
    "    stock_ = ak.stock_zh_a_hist(\n",
    "        symbol=code,\n",
    "        period=period,\n",
    "        tart_date=start_date,\n",
    "        end_date=end_date,\n",
    "        adjust=adjust)\n",
    "    return stock_"
   ],
   "metadata": {
    "collapsed": false,
    "pycharm": {
     "name": "#%%\n"
    }
   }
  },
  {
   "cell_type": "markdown",
   "source": [
    "## 常见的量化投资策略\n",
    "\n",
    "* 选股策略\n",
    "* 择时策略\n",
    "* 套利策略\n",
    "* 事件驱动策略"
   ],
   "metadata": {
    "collapsed": false,
    "pycharm": {
     "name": "#%% md\n"
    }
   }
  },
  {
   "cell_type": "code",
   "execution_count": 48,
   "outputs": [
    {
     "data": {
      "text/plain": "日期\n2016-01-04    1164.79\n2016-01-05    1178.86\n2016-01-06    1175.65\n2016-01-07    1125.65\n2016-01-08    1137.71\n               ...   \n2023-06-26    9291.78\n2023-06-27    9302.09\n2023-06-28    9389.17\n2023-06-29    9315.45\n2023-06-30    9331.54\nName: 收盘, Length: 1821, dtype: float64"
     },
     "execution_count": 48,
     "metadata": {},
     "output_type": "execute_result"
    }
   ],
   "source": [
    "stock_600519[\"收盘\"]"
   ],
   "metadata": {
    "collapsed": false,
    "pycharm": {
     "name": "#%%\n"
    }
   }
  },
  {
   "cell_type": "code",
   "execution_count": 52,
   "outputs": [],
   "source": [
    "#处理量化交易信号\n",
    "#第一步：计算我们需要的ma均线数据\n",
    "#ma均线计算方式为N的算数平均值，这里我们假设策路染数是5日与20均线\n",
    "stock_600519['ma5'] =stock_600519[\"收盘\"].rolling(5).mean()\n",
    "stock_600519['ma20'] =stock_600519[\"收盘\"].rolling(20).mean()"
   ],
   "metadata": {
    "collapsed": false,
    "pycharm": {
     "name": "#%%\n"
    }
   }
  },
  {
   "cell_type": "code",
   "execution_count": null,
   "outputs": [],
   "source": [],
   "metadata": {
    "collapsed": false,
    "pycharm": {
     "name": "#%%\n"
    }
   }
  }
 ],
 "metadata": {
  "kernelspec": {
   "display_name": "Python 3",
   "language": "python",
   "name": "python3"
  },
  "language_info": {
   "codemirror_mode": {
    "name": "ipython",
    "version": 2
   },
   "file_extension": ".py",
   "mimetype": "text/x-python",
   "name": "python",
   "nbconvert_exporter": "python",
   "pygments_lexer": "ipython2",
   "version": "2.7.6"
  }
 },
 "nbformat": 4,
 "nbformat_minor": 0
}