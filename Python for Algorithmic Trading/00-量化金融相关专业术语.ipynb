{
 "cells": [
  {
   "cell_type": "markdown",
   "metadata": {
    "collapsed": true,
    "pycharm": {
     "name": "#%% md\n"
    }
   },
   "source": [
    "Financial data：财务数据\n",
    "Backtesting：回测\n",
    "Online platforms：在线平台\n",
    "Automation：自动控制\n",
    "Market Movements：市场走势\n",
    "Event-Based Backtesting：基于事件的回测构建类\n",
    "CFD Trading：差价合约交易。是一种金融交易方式，允许投资者通过合约来进行各种金融市场的交易，而无需真正拥有交易资产。\n",
    "Oanda：Oanda是一个外汇（外汇、外汇）和差价合约（CFD）交易平台，提供广泛的可交易工具，例如基于外汇对、股票指数、商品或利率工具（基准债券）的工具。\n",
    "FX Trading：外汇交易\n",
    "simple moving average (SMA):简单移动平均线\n",
    "Beta trading:例如通过投资复制标准普尔500指数表现的交易所交易基金（ETF）来赚取市场风险溢价。\n",
    "Alpha generation：例如通过出售标准普尔500指数上市的空头股票或标准普尔500指数的ETF，赚取独立于市场的风险溢价。\n",
    "Static hedging：例如，通过购买标准普尔500指数的价外看跌期权来对冲市场风险。\n",
    "Dynamic hedging：通过在标准普尔500指数上动态交易期货和适当的现金、货币市场或利率工具，对冲影响标准普尔500指数期权的市场风险。\n",
    "Asset-liability management（资产负债管理）：交易标准普尔500指数股票和ETF，以便能够支付因撰写人寿保险单等原因而产生的负债。\n",
    "Market making：例如，通过以不同的出价和要价买卖期权，为标准普尔500指数的期权提供流动性。\n",
    "traditional ones (equity, bonds, etc.), 传统因素（股票、债券等）\n",
    "dynamic ones (value, momentum, etc.), 动态因素（价值、动量等）\n",
    "volatility (buying at-the-money puts and calls)：波动性（买入看跌期权和看涨期权）"
   ]
  },
  {
   "cell_type": "markdown",
   "source": [
    "S_T = S_0 \\exp((r - 0.5 \\sigma^2) T + \\sigma z \\sqrt{T})"
   ],
   "metadata": {
    "collapsed": false,
    "pycharm": {
     "name": "#%% md\n"
    }
   }
  },
  {
   "cell_type": "code",
   "execution_count": null,
   "outputs": [],
   "source": [],
   "metadata": {
    "collapsed": false,
    "pycharm": {
     "name": "#%%\n"
    }
   }
  }
 ],
 "metadata": {
  "kernelspec": {
   "display_name": "Python 3",
   "language": "python",
   "name": "python3"
  },
  "language_info": {
   "codemirror_mode": {
    "name": "ipython",
    "version": 2
   },
   "file_extension": ".py",
   "mimetype": "text/x-python",
   "name": "python",
   "nbconvert_exporter": "python",
   "pygments_lexer": "ipython2",
   "version": "2.7.6"
  }
 },
 "nbformat": 4,
 "nbformat_minor": 0
}